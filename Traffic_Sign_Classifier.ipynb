{
 "cells": [
  {
   "cell_type": "markdown",
   "metadata": {},
   "source": [
    "# Self-Driving Car Engineer Nanodegree\n",
    "\n",
    "## Deep Learning\n",
    "\n",
    "## Project: Build a Traffic Sign Recognition Classifier\n",
    "\n",
    "In this notebook, a template is provided for you to implement your functionality in stages, which is required to successfully complete this project. If additional code is required that cannot be included in the notebook, be sure that the Python code is successfully imported and included in your submission if necessary. \n",
    "\n",
    "> **Note**: Once you have completed all of the code implementations, you need to finalize your work by exporting the iPython Notebook as an HTML document. Before exporting the notebook to html, all of the code cells need to have been run so that reviewers can see the final implementation and output. You can then export the notebook by using the menu above and navigating to  \\n\",\n",
    "    \"**File -> Download as -> HTML (.html)**. Include the finished document along with this notebook as your submission. \n",
    "\n",
    "In addition to implementing code, there is a writeup to complete. The writeup should be completed in a separate file, which can be either a markdown file or a pdf document. There is a [write up template](https://github.com/udacity/CarND-Traffic-Sign-Classifier-Project/blob/master/writeup_template.md) that can be used to guide the writing process. Completing the code template and writeup template will cover all of the [rubric points](https://review.udacity.com/#!/rubrics/481/view) for this project.\n",
    "\n",
    "The [rubric](https://review.udacity.com/#!/rubrics/481/view) contains \"Stand Out Suggestions\" for enhancing the project beyond the minimum requirements. The stand out suggestions are optional. If you decide to pursue the \"stand out suggestions\", you can include the code in this Ipython notebook and also discuss the results in the writeup file.\n",
    "\n",
    "\n",
    ">**Note:** Code and Markdown cells can be executed using the **Shift + Enter** keyboard shortcut. In addition, Markdown cells can be edited by typically double-clicking the cell to enter edit mode."
   ]
  },
  {
   "cell_type": "markdown",
   "metadata": {},
   "source": [
    "---\n",
    "## Step 0: Load The Data"
   ]
  },
  {
   "cell_type": "code",
   "execution_count": 1,
   "metadata": {
    "collapsed": true
   },
   "outputs": [],
   "source": [
    "# Load pickled data\n",
    "import pickle\n",
    "\n",
    "# TODO: Fill this in based on where you saved the training and testing data\n",
    "\n",
    "training_file = 'traffic-signs-data/train.p'\n",
    "validation_file= 'traffic-signs-data/valid.p'\n",
    "testing_file = 'traffic-signs-data/test.p'\n",
    "\n",
    "with open(training_file, mode='rb') as f:\n",
    "    train = pickle.load(f)\n",
    "with open(validation_file, mode='rb') as f:\n",
    "    valid = pickle.load(f)\n",
    "with open(testing_file, mode='rb') as f:\n",
    "    test = pickle.load(f)\n",
    "    \n",
    "X_train, y_train = train['features'], train['labels']\n",
    "X_valid, y_valid = valid['features'], valid['labels']\n",
    "X_test, y_test = test['features'], test['labels']"
   ]
  },
  {
   "cell_type": "markdown",
   "metadata": {},
   "source": [
    "---\n",
    "\n",
    "## Step 1: Dataset Summary & Exploration\n",
    "\n",
    "The pickled data is a dictionary with 4 key/value pairs:\n",
    "\n",
    "- `'features'` is a 4D array containing raw pixel data of the traffic sign images, (num examples, width, height, channels).\n",
    "- `'labels'` is a 1D array containing the label/class id of the traffic sign. The file `signnames.csv` contains id -> name mappings for each id.\n",
    "- `'sizes'` is a list containing tuples, (width, height) representing the original width and height the image.\n",
    "- `'coords'` is a list containing tuples, (x1, y1, x2, y2) representing coordinates of a bounding box around the sign in the image. **THESE COORDINATES ASSUME THE ORIGINAL IMAGE. THE PICKLED DATA CONTAINS RESIZED VERSIONS (32 by 32) OF THESE IMAGES**\n",
    "\n",
    "Complete the basic data summary below. Use python, numpy and/or pandas methods to calculate the data summary rather than hard coding the results. For example, the [pandas shape method](http://pandas.pydata.org/pandas-docs/stable/generated/pandas.DataFrame.shape.html) might be useful for calculating some of the summary results. "
   ]
  },
  {
   "cell_type": "markdown",
   "metadata": {},
   "source": [
    "### Provide a Basic Summary of the Data Set Using Python, Numpy and/or Pandas"
   ]
  },
  {
   "cell_type": "code",
   "execution_count": 2,
   "metadata": {},
   "outputs": [
    {
     "name": "stdout",
     "output_type": "stream",
     "text": [
      "Number of training examples = 34799\n",
      "Number of testing examples = 12630\n",
      "Number of validation examples = 4410\n",
      "Image data shape = (32, 32)\n",
      "Number of classes = 43\n"
     ]
    }
   ],
   "source": [
    "### Replace each question mark with the appropriate value. \n",
    "### Use python, pandas or numpy methods rather than hard coding the results\n",
    "import pandas as pd\n",
    "\n",
    "# TODO: Number of training examples\n",
    "n_train = X_train.shape[0]\n",
    "\n",
    "# TODO: Number of validation examples\n",
    "n_validation = X_valid.shape[0]\n",
    "\n",
    "# TODO: Number of testing examples.\n",
    "n_test = X_test.shape[0]\n",
    "\n",
    "# TODO: What's the shape of an traffic sign image?\n",
    "image_shape = (X_train.shape[1], X_train.shape[2])\n",
    "\n",
    "# TODO: How many unique classes/labels there are in the dataset.\n",
    "n_classes = len(pd.read_csv('signnames.csv'))\n",
    "\n",
    "print(\"Number of training examples =\", n_train)\n",
    "print(\"Number of testing examples =\", n_test)\n",
    "print(\"Number of validation examples =\", n_validation)\n",
    "print(\"Image data shape =\", image_shape)\n",
    "print(\"Number of classes =\", n_classes)"
   ]
  },
  {
   "cell_type": "markdown",
   "metadata": {},
   "source": [
    "### Include an exploratory visualization of the dataset"
   ]
  },
  {
   "cell_type": "markdown",
   "metadata": {},
   "source": [
    "Visualize the German Traffic Signs Dataset using the pickled file(s). This is open ended, suggestions include: plotting traffic sign images, plotting the count of each sign, etc. \n",
    "\n",
    "The [Matplotlib](http://matplotlib.org/) [examples](http://matplotlib.org/examples/index.html) and [gallery](http://matplotlib.org/gallery.html) pages are a great resource for doing visualizations in Python.\n",
    "\n",
    "**NOTE:** It's recommended you start with something simple first. If you wish to do more, come back to it after you've completed the rest of the sections. It can be interesting to look at the distribution of classes in the training, validation and test set. Is the distribution the same? Are there more examples of some classes than others?"
   ]
  },
  {
   "cell_type": "code",
   "execution_count": 3,
   "metadata": {},
   "outputs": [
    {
     "data": {
      "image/png": "[encoded data removed]",
      "text/plain": [
       "<matplotlib.figure.Figure at 0x7f2803f30518>"
      ]
     },
     "metadata": {},
     "output_type": "display_data"
    }
   ],
   "source": [
    "import numpy as np\n",
    "import matplotlib.pyplot as plt\n",
    "from collections import Counter\n",
    "\n",
    "n_groups = n_classes\n",
    "total_dataset = n_train + n_validation + n_test\n",
    "\n",
    "trn = tuple(Counter(y_train).values())\n",
    "trn = tuple(np.array(trn) / n_train)\n",
    "std_train = tuple(np.zeros(n_classes, float)) # no need for this var in our case. set to zero to avoid error.\n",
    "\n",
    "tst = tuple(Counter(y_test).values())\n",
    "tst = tuple(np.array(tst) / n_test)\n",
    "std_test = tuple(np.zeros(n_classes, float))\n",
    "\n",
    "vld = tuple(Counter(y_valid).values())\n",
    "vld = tuple(np.array(vld) / n_validation)\n",
    "std_valid = tuple(np.zeros(n_classes, float))\n",
    "\n",
    "fig, ax = plt.subplots()\n",
    "\n",
    "index = np.arange(n_groups)\n",
    "bar_width = 0.28\n",
    "\n",
    "opacity = 1.0\n",
    "error_config = {'ecolor': '0.3'}\n",
    "\n",
    "rects1 = plt.bar(index, trn, bar_width,\n",
    "                 alpha=opacity,\n",
    "                 color='b',\n",
    "                 yerr=std_train,\n",
    "                 error_kw=error_config,\n",
    "                 label='train')\n",
    "\n",
    "rects2 = plt.bar(index + bar_width, tst, bar_width,\n",
    "                 alpha=opacity,\n",
    "                 color='r',\n",
    "                 yerr=std_test,\n",
    "                 error_kw=error_config,\n",
    "                 label='test')\n",
    "\n",
    "rects3 = plt.bar(index + bar_width + bar_width, vld, bar_width,\n",
    "                 alpha=opacity,\n",
    "                 color='g',\n",
    "                 yerr=std_valid,\n",
    "                 error_kw=error_config,\n",
    "                 label='valid')\n",
    "\n",
    "plt.xlabel('Sign ID')\n",
    "plt.ylabel('Frequency')\n",
    "plt.title('Comparing relative frequency between data sets')\n",
    "plt.xticks(index + bar_width / 2, tuple(pd.read_csv('signnames.csv')['ClassId']))\n",
    "plt.legend()\n",
    "\n",
    "plt.tight_layout()\n",
    "plt.show()"
   ]
  },
  {
   "cell_type": "markdown",
   "metadata": {},
   "source": [
    "this visualization shows that the data is well distributed between the data sets.\n",
    "\n",
    "there are a few green spikes (validation set) in the center of the graph. I wonder if it will cause some issues down the road."
   ]
  },
  {
   "cell_type": "markdown",
   "metadata": {},
   "source": [
    "----\n",
    "\n",
    "## Step 2: Design and Test a Model Architecture\n",
    "\n",
    "Design and implement a deep learning model that learns to recognize traffic signs. Train and test your model on the [German Traffic Sign Dataset](http://benchmark.ini.rub.de/?section=gtsrb&subsection=dataset).\n",
    "\n",
    "The LeNet-5 implementation shown in the [classroom](https://classroom.udacity.com/nanodegrees/nd013/parts/fbf77062-5703-404e-b60c-95b78b2f3f9e/modules/6df7ae49-c61c-4bb2-a23e-6527e69209ec/lessons/601ae704-1035-4287-8b11-e2c2716217ad/concepts/d4aca031-508f-4e0b-b493-e7b706120f81) at the end of the CNN lesson is a solid starting point. You'll have to change the number of classes and possibly the preprocessing, but aside from that it's plug and play! \n",
    "\n",
    "With the LeNet-5 solution from the lecture, you should expect a validation set accuracy of about 0.89. To meet specifications, the validation set accuracy will need to be at least 0.93. It is possible to get an even higher accuracy, but 0.93 is the minimum for a successful project submission. \n",
    "\n",
    "There are various aspects to consider when thinking about this problem:\n",
    "\n",
    "- Neural network architecture (is the network over or underfitting?)\n",
    "- Play around preprocessing techniques (normalization, rgb to grayscale, etc)\n",
    "- Number of examples per label (some have more than others).\n",
    "- Generate fake data.\n",
    "\n",
    "Here is an example of a [published baseline model on this problem](http://yann.lecun.com/exdb/publis/pdf/sermanet-ijcnn-11.pdf). It's not required to be familiar with the approach used in the paper but, it's good practice to try to read papers like these."
   ]
  },
  {
   "cell_type": "markdown",
   "metadata": {},
   "source": [
    "### Pre-process the Data Set (normalization, grayscale, etc.)"
   ]
  },
  {
   "cell_type": "markdown",
   "metadata": {},
   "source": [
    "Minimally, the image data should be normalized so that the data has mean zero and equal variance. For image data, `(pixel - 128)/ 128` is a quick way to approximately normalize the data and can be used in this project. \n",
    "\n",
    "Other pre-processing steps are optional. You can try different techniques to see if it improves performance. \n",
    "\n",
    "Use the code cell (or multiple code cells, if necessary) to implement the first step of your project."
   ]
  },
  {
   "cell_type": "code",
   "execution_count": 4,
   "metadata": {
    "collapsed": true
   },
   "outputs": [],
   "source": [
    "### Preprocess the data here. It is required to normalize the data. Other preprocessing steps could include \n",
    "### converting to grayscale, etc.\n",
    "### Feel free to use as many code cells as needed.\n",
    "from sklearn.utils import shuffle\n",
    "\n",
    "X_train, y_train = shuffle(X_train, y_train)\n",
    "\n",
    "# gray scale\n",
    "gray = [0.299,0.587,0.114]\n",
    "X_train = np.dot(X_train[...,:3],gray)\n",
    "X_train = np.reshape(X_train, X_train.shape + (1,))\n",
    "X_test = np.dot(X_test[...,:3],gray)\n",
    "X_test = np.reshape(X_test, X_test.shape + (1,))\n",
    "X_valid = np.dot(X_valid[...,:3],gray)\n",
    "X_valid = np.reshape(X_valid, X_valid.shape + (1,))\n",
    "\n",
    "# normalize\n",
    "X_train = np.divide(np.subtract(X_train[...,:32], 128), 128)\n",
    "X_test = np.divide(np.subtract(X_test[...,:32], 128), 128)\n",
    "X_valid = np.divide(np.subtract(X_valid[...,:32], 128), 128)"
   ]
  },
  {
   "cell_type": "code",
   "execution_count": 5,
   "metadata": {
    "collapsed": true
   },
   "outputs": [],
   "source": [
    "# i wonder if should add this\n",
    "# X_train = np.pad(X_train, ((0, 0), (2, 2), (2, 2), (0, 0)), 'constant')\n",
    "# X_test = np.pad(X_test, ((0, 0), (2, 2), (2, 2), (0, 0)), 'constant')\n",
    "# X_valid = np.pad(X_valid, ((0, 0), (2, 2), (2, 2), (0, 0)), 'constant')"
   ]
  },
  {
   "cell_type": "markdown",
   "metadata": {},
   "source": [
    "### Model Architecture"
   ]
  },
  {
   "cell_type": "code",
   "execution_count": 6,
   "metadata": {
    "collapsed": true
   },
   "outputs": [],
   "source": [
    "### Define your architecture here.\n",
    "### Feel free to use as many code cells as needed.\n",
    "import tensorflow as tf\n",
    "from tensorflow.contrib.layers import flatten\n",
    "\n",
    "def LeNet(x):\n",
    "    mu = 0\n",
    "    sigma = 0.1\n",
    "    \n",
    "    conv1_w = tf.Variable(tf.truncated_normal(shape=(5, 5, 1, 6), mean=mu, stddev=sigma))\n",
    "    conv1_b = tf.Variable(tf.zeros(6))\n",
    "    conv1 = tf.nn.conv2d(x, conv1_w, strides=[1, 1, 1, 1], padding='VALID', name='conv1') + conv1_b\n",
    "    conv1 = tf.nn.relu(conv1)\n",
    "    conv1 = tf.nn.max_pool(conv1, ksize=[1, 2, 2, 1], strides=[1, 2, 2, 1], padding='VALID')\n",
    "    \n",
    "    conv2_w = tf.Variable(tf.truncated_normal(shape=(5, 5, 6, 16), mean=mu, stddev=sigma))\n",
    "    conv2_b = tf.Variable(tf.zeros(16))\n",
    "    conv2 = tf.nn.conv2d(conv1, conv2_w, strides=[1, 1, 1, 1], padding='VALID', name='conv2') + conv2_b\n",
    "    conv2 = tf.nn.relu(conv2)\n",
    "    conv2 = tf.nn.max_pool(conv2, ksize=[1, 2, 2, 1], strides=[1, 2, 2, 1], padding='VALID')\n",
    "    \n",
    "    fc0 = flatten(conv2)\n",
    "    \n",
    "    fc1_w = tf.Variable(tf.truncated_normal(shape=(400, 120), mean=mu, stddev=sigma))\n",
    "    fc1_b = tf.Variable(tf.zeros(120))\n",
    "    fc1 = tf.matmul(fc0, fc1_w) + fc1_b\n",
    "    fc1 = tf.nn.relu(fc1)\n",
    "    \n",
    "    fc2_w = tf.Variable(tf.truncated_normal(shape=(120, 84), mean=mu, stddev=sigma))\n",
    "    fc2_b = tf.Variable(tf.zeros(84))\n",
    "    fc2 = tf.matmul(fc1, fc2_w) + fc2_b\n",
    "    fc2 = tf.nn.relu(fc2)\n",
    "    \n",
    "    fc3_w = tf.Variable(tf.truncated_normal(shape=(84, n_classes), mean=mu, stddev=sigma))\n",
    "    fc3_b = tf.Variable(tf.zeros(n_classes))\n",
    "    logits = tf.matmul(fc2, fc3_w) + fc3_b\n",
    "    \n",
    "    return logits"
   ]
  },
  {
   "cell_type": "markdown",
   "metadata": {},
   "source": [
    "### Train, Validate and Test the Model"
   ]
  },
  {
   "cell_type": "markdown",
   "metadata": {},
   "source": [
    "A validation set can be used to assess how well the model is performing. A low accuracy on the training and validation\n",
    "sets imply underfitting. A high accuracy on the training set but low accuracy on the validation set implies overfitting."
   ]
  },
  {
   "cell_type": "code",
   "execution_count": 7,
   "metadata": {
    "collapsed": true
   },
   "outputs": [],
   "source": [
    "### Train your model here.\n",
    "### Calculate and report the accuracy on the training and validation set.\n",
    "### Once a final model architecture is selected, \n",
    "### the accuracy on the test set should be calculated and reported as well.\n",
    "### Feel free to use as many code cells as needed.\n",
    "\n",
    "x = tf.placeholder(tf.float32, (None, 32, 32, 1))\n",
    "y = tf.placeholder(tf.int32, (None))\n",
    "one_hot_y = tf.one_hot(y, n_classes)\n",
    "\n",
    "EPOCHS = 100\n",
    "BATCH_SIZE = 128\n",
    "rate = 0.001\n",
    "\n",
    "logits = LeNet(x)\n",
    "cross_entropy = tf.nn.softmax_cross_entropy_with_logits(logits, one_hot_y)\n",
    "loss_operation = tf.reduce_mean(cross_entropy)\n",
    "optimizer = tf.train.AdamOptimizer(learning_rate = rate)\n",
    "training_operation = optimizer.minimize(loss_operation)"
   ]
  },
  {
   "cell_type": "code",
   "execution_count": 8,
   "metadata": {
    "collapsed": true
   },
   "outputs": [],
   "source": [
    "correct_prediction = tf.equal(tf.argmax(logits, 1), tf.argmax(one_hot_y, 1))\n",
    "accuracy_operation = tf.reduce_mean(tf.cast(correct_prediction, tf.float32))\n",
    "\n",
    "def evaluate(X_data, y_data):\n",
    "    num_examples = len(X_data)\n",
    "    total_accuracy = 0\n",
    "    sess = tf.get_default_session()\n",
    "    for offset in range(0, num_examples, BATCH_SIZE):\n",
    "        end = offset + BATCH_SIZE\n",
    "        batch_x, batch_y = X_data[offset:end], y_data[offset:end]\n",
    "        accuracy = sess.run(accuracy_operation, feed_dict = {x: batch_x, y: batch_y})\n",
    "        total_accuracy += accuracy * len(batch_x)\n",
    "    return total_accuracy / num_examples"
   ]
  },
  {
   "cell_type": "code",
   "execution_count": 9,
   "metadata": {},
   "outputs": [
    {
     "name": "stdout",
     "output_type": "stream",
     "text": [
      "training...\n",
      "epoch number  0\n",
      "train accuracy:  0.766056495839\n",
      "test accuracy:  0.69216152035\n",
      "epoch number  1\n",
      "train accuracy:  0.908416908513\n",
      "test accuracy:  0.824228028598\n",
      "epoch number  2\n",
      "train accuracy:  0.926348458202\n",
      "test accuracy:  0.849247822814\n",
      "epoch number  3\n",
      "train accuracy:  0.956090692347\n",
      "test accuracy:  0.872129849442\n",
      "epoch number  4\n",
      "train accuracy:  0.966665708802\n",
      "test accuracy:  0.871021377474\n",
      "epoch number  5\n",
      "train accuracy:  0.976091267059\n",
      "test accuracy:  0.883847980875\n",
      "epoch number  6\n",
      "train accuracy:  0.985919135659\n",
      "test accuracy:  0.901741884317\n",
      "epoch number  7\n",
      "train accuracy:  0.988131842869\n",
      "test accuracy:  0.901425177987\n",
      "epoch number  8\n",
      "train accuracy:  0.99048823242\n",
      "test accuracy:  0.901821060957\n",
      "epoch number  9\n",
      "train accuracy:  0.989022673082\n",
      "test accuracy:  0.895803642075\n",
      "epoch number  10\n",
      "train accuracy:  0.992643466766\n",
      "test accuracy:  0.905146476596\n",
      "epoch number  11\n",
      "train accuracy:  0.98999971267\n",
      "test accuracy:  0.897545526552\n",
      "epoch number  12\n",
      "train accuracy:  0.993476824047\n",
      "test accuracy:  0.90277117957\n",
      "epoch number  13\n",
      "train accuracy:  0.995833213598\n",
      "test accuracy:  0.9014251781\n",
      "epoch number  14\n",
      "train accuracy:  0.995574585477\n",
      "test accuracy:  0.906175771962\n",
      "epoch number  15\n",
      "train accuracy:  0.988936463691\n",
      "test accuracy:  0.89580364215\n",
      "epoch number  16\n",
      "train accuracy:  0.996465415673\n",
      "test accuracy:  0.910847189223\n",
      "epoch number  17\n",
      "train accuracy:  0.997701083364\n",
      "test accuracy:  0.912509897137\n",
      "epoch number  18\n",
      "train accuracy:  0.997183827121\n",
      "test accuracy:  0.913143309609\n",
      "epoch number  19\n",
      "train accuracy:  0.997643610449\n",
      "test accuracy:  0.913222486172\n",
      "epoch number  20\n",
      "train accuracy:  0.997557401075\n",
      "test accuracy:  0.909184481309\n",
      "epoch number  21\n",
      "train accuracy:  0.997557401075\n",
      "test accuracy:  0.90918448146\n",
      "epoch number  22\n",
      "train accuracy:  0.992815885514\n",
      "test accuracy:  0.907838479763\n",
      "epoch number  23\n",
      "train accuracy:  0.99706888129\n",
      "test accuracy:  0.912984956481\n",
      "epoch number  24\n",
      "train accuracy:  0.997212563579\n",
      "test accuracy:  0.915676959611\n",
      "epoch number  25\n",
      "train accuracy:  0.998678122935\n",
      "test accuracy:  0.915281076867\n",
      "epoch number  26\n",
      "train accuracy:  0.999137906262\n",
      "test accuracy:  0.91987331764\n",
      "epoch number  27\n",
      "train accuracy:  0.995747004241\n",
      "test accuracy:  0.911401425282\n",
      "epoch number  28\n",
      "train accuracy:  0.998132130234\n",
      "test accuracy:  0.912984956519\n",
      "epoch number  29\n",
      "train accuracy:  0.997844765654\n",
      "test accuracy:  0.910134600187\n",
      "epoch number  30\n",
      "train accuracy:  0.999195379178\n",
      "test accuracy:  0.916310372271\n",
      "epoch number  31\n",
      "train accuracy:  1.0\n",
      "test accuracy:  0.920744259765\n",
      "epoch number  32\n",
      "train accuracy:  0.999971263542\n",
      "test accuracy:  0.924703087952\n",
      "epoch number  33\n",
      "train accuracy:  1.0\n",
      "test accuracy:  0.925494853627\n",
      "epoch number  34\n",
      "train accuracy:  1.0\n",
      "test accuracy:  0.925257323898\n",
      "epoch number  35\n",
      "train accuracy:  0.999712635421\n",
      "test accuracy:  0.919794141\n",
      "epoch number  36\n",
      "train accuracy:  0.994051553206\n",
      "test accuracy:  0.903958828177\n",
      "epoch number  37\n",
      "train accuracy:  0.99048823242\n",
      "test accuracy:  0.905938242271\n",
      "epoch number  38\n",
      "train accuracy:  0.99497111986\n",
      "test accuracy:  0.908234362732\n",
      "epoch number  39\n",
      "train accuracy:  0.999252852093\n",
      "test accuracy:  0.920110847293\n",
      "epoch number  40\n",
      "train accuracy:  0.999827581252\n",
      "test accuracy:  0.92169437853\n",
      "epoch number  41\n",
      "train accuracy:  1.0\n",
      "test accuracy:  0.925890736408\n",
      "epoch number  42\n",
      "train accuracy:  1.0\n",
      "test accuracy:  0.924782264554\n",
      "epoch number  43\n",
      "train accuracy:  1.0\n",
      "test accuracy:  0.926524148918\n",
      "epoch number  44\n",
      "train accuracy:  1.0\n",
      "test accuracy:  0.927315914518\n",
      "epoch number  45\n",
      "train accuracy:  1.0\n",
      "test accuracy:  0.926761678647\n",
      "epoch number  46\n",
      "train accuracy:  1.0\n",
      "test accuracy:  0.926207442663\n",
      "epoch number  47\n",
      "train accuracy:  1.0\n",
      "test accuracy:  0.925336500424\n",
      "epoch number  48\n",
      "train accuracy:  1.0\n",
      "test accuracy:  0.926761678647\n",
      "epoch number  49\n",
      "train accuracy:  1.0\n",
      "test accuracy:  0.927236737992\n",
      "epoch number  50\n",
      "train accuracy:  0.999971263542\n",
      "test accuracy:  0.925415677026\n",
      "epoch number  51\n",
      "train accuracy:  1.0\n",
      "test accuracy:  0.926682502045\n",
      "epoch number  52\n",
      "train accuracy:  0.946895025753\n",
      "test accuracy:  0.860095011716\n",
      "epoch number  53\n",
      "train accuracy:  0.998103393776\n",
      "test accuracy:  0.920190023781\n",
      "epoch number  54\n",
      "train accuracy:  0.998534440645\n",
      "test accuracy:  0.923357086369\n",
      "epoch number  55\n",
      "train accuracy:  0.999626426047\n",
      "test accuracy:  0.92889944583\n",
      "epoch number  56\n",
      "train accuracy:  0.999913790626\n",
      "test accuracy:  0.928028503554\n",
      "epoch number  57\n",
      "train accuracy:  0.999942527084\n",
      "test accuracy:  0.925019794131\n",
      "epoch number  58\n",
      "train accuracy:  0.997959711486\n",
      "test accuracy:  0.927711797374\n",
      "epoch number  59\n",
      "train accuracy:  0.995488376103\n",
      "test accuracy:  0.9133808393\n",
      "epoch number  60\n",
      "train accuracy:  0.998390758355\n",
      "test accuracy:  0.921536025327\n",
      "epoch number  61\n",
      "train accuracy:  0.997988447944\n",
      "test accuracy:  0.920427553548\n",
      "epoch number  62\n",
      "train accuracy:  0.999396534383\n",
      "test accuracy:  0.929691211543\n",
      "epoch number  63\n",
      "train accuracy:  0.999913790626\n",
      "test accuracy:  0.929770387993\n",
      "epoch number  64\n",
      "train accuracy:  1.0\n",
      "test accuracy:  0.932779097415\n",
      "epoch number  65\n",
      "train accuracy:  1.0\n",
      "test accuracy:  0.934045922473\n",
      "epoch number  66\n",
      "train accuracy:  1.0\n",
      "test accuracy:  0.934520981855\n",
      "epoch number  67\n",
      "train accuracy:  1.0\n",
      "test accuracy:  0.934441805292\n",
      "epoch number  68\n",
      "train accuracy:  1.0\n",
      "test accuracy:  0.934125099037\n",
      "epoch number  69\n",
      "train accuracy:  1.0\n",
      "test accuracy:  0.934600158419\n",
      "epoch number  70\n",
      "train accuracy:  1.0\n",
      "test accuracy:  0.934520981855\n",
      "epoch number  71\n",
      "train accuracy:  1.0\n",
      "test accuracy:  0.934520981855\n",
      "epoch number  72\n",
      "train accuracy:  1.0\n",
      "test accuracy:  0.934758511547\n",
      "epoch number  73\n",
      "train accuracy:  1.0\n",
      "test accuracy:  0.934520981855\n",
      "epoch number  74\n",
      "train accuracy:  1.0\n",
      "test accuracy:  0.934204275601\n",
      "epoch number  75\n",
      "train accuracy:  1.0\n",
      "test accuracy:  0.934362628728\n",
      "epoch number  76\n",
      "train accuracy:  1.0\n",
      "test accuracy:  0.933887569346\n",
      "epoch number  77\n",
      "train accuracy:  1.0\n",
      "test accuracy:  0.933808392782\n",
      "epoch number  78\n",
      "train accuracy:  1.0\n",
      "test accuracy:  0.933887569346\n",
      "epoch number  79\n",
      "train accuracy:  1.0\n",
      "test accuracy:  0.933333333399\n",
      "epoch number  80\n",
      "train accuracy:  0.988447943906\n",
      "test accuracy:  0.904038004703\n",
      "epoch number  81\n",
      "train accuracy:  0.998793068766\n",
      "test accuracy:  0.92106096602\n",
      "epoch number  82\n",
      "train accuracy:  0.999597689589\n",
      "test accuracy:  0.924703087952\n",
      "epoch number  83\n",
      "train accuracy:  1.0\n",
      "test accuracy:  0.928503562974\n",
      "epoch number  84\n",
      "train accuracy:  1.0\n",
      "test accuracy:  0.92763262081\n",
      "epoch number  85\n",
      "train accuracy:  1.0\n",
      "test accuracy:  0.92826603332\n",
      "epoch number  86\n",
      "train accuracy:  1.0\n",
      "test accuracy:  0.928028503629\n",
      "epoch number  87\n",
      "train accuracy:  1.0\n",
      "test accuracy:  0.928107680193\n",
      "epoch number  88\n",
      "train accuracy:  1.0\n",
      "test accuracy:  0.928345209884\n",
      "epoch number  89\n",
      "train accuracy:  1.0\n",
      "test accuracy:  0.92889944583\n",
      "epoch number  90\n",
      "train accuracy:  1.0\n",
      "test accuracy:  0.92889944583\n",
      "epoch number  91\n",
      "train accuracy:  1.0\n",
      "test accuracy:  0.928661916139\n",
      "epoch number  92\n",
      "train accuracy:  1.0\n",
      "test accuracy:  0.928978622394\n",
      "epoch number  93\n",
      "train accuracy:  1.0\n",
      "test accuracy:  0.928820269266\n",
      "epoch number  94\n",
      "train accuracy:  1.0\n",
      "test accuracy:  0.928661916139\n",
      "epoch number  95\n",
      "train accuracy:  1.0\n",
      "test accuracy:  0.929057798958\n",
      "epoch number  96\n",
      "train accuracy:  1.0\n",
      "test accuracy:  0.929216152085\n",
      "epoch number  97\n",
      "train accuracy:  1.0\n",
      "test accuracy:  0.930007917722\n",
      "epoch number  98\n",
      "train accuracy:  1.0\n",
      "test accuracy:  0.930403800541\n",
      "epoch number  99\n",
      "train accuracy:  1.0\n",
      "test accuracy:  0.930324624015\n",
      "model saved\n"
     ]
    }
   ],
   "source": [
    "with tf.Session() as sess:\n",
    "    sess.run(tf.global_variables_initializer())\n",
    "    num_examples = len(X_train)\n",
    "    \n",
    "    print ('training...')\n",
    "    for i in range(EPOCHS): #change it to EPOCHS\n",
    "        print ('epoch number ', i)\n",
    "        X_train, y_train = shuffle(X_train, y_train)\n",
    "        for offset in range(0, num_examples, BATCH_SIZE):\n",
    "            end = offset + BATCH_SIZE\n",
    "            batch_x, batch_y = X_train[offset:end], y_train[offset:end]\n",
    "            sess.run(training_operation, feed_dict = {x: batch_x, y: batch_y})\n",
    "        train_accuracy = evaluate(X_train, y_train)\n",
    "        print ('train accuracy: ', train_accuracy)\n",
    "        test_accuracy = evaluate(X_test, y_test)\n",
    "        print ('test accuracy: ', test_accuracy)\n",
    "        \n",
    "    try:\n",
    "        saver\n",
    "    except NameError:\n",
    "        saver = tf.train.Saver()\n",
    "    saver.save(sess, 'lenet')\n",
    "    print ('model saved')"
   ]
  },
  {
   "cell_type": "code",
   "execution_count": 10,
   "metadata": {},
   "outputs": [
    {
     "name": "stdout",
     "output_type": "stream",
     "text": [
      "accuracy of the prediction of the validation set is 0.94512471631\n"
     ]
    }
   ],
   "source": [
    "with tf.Session() as sess:\n",
    "    saver = tf.train.import_meta_graph('lenet.meta')\n",
    "    saver.restore(sess, tf.train.latest_checkpoint('.'))\n",
    "    validation_accuracy = evaluate(X_valid, y_valid)\n",
    "    print ('accuracy of the prediction of the validation set is', validation_accuracy)"
   ]
  },
  {
   "cell_type": "markdown",
   "metadata": {},
   "source": [
    "---\n",
    "\n",
    "## Step 3: Test a Model on New Images\n",
    "\n",
    "To give yourself more insight into how your model is working, download at least five pictures of German traffic signs from the web and use your model to predict the traffic sign type.\n",
    "\n",
    "You may find `signnames.csv` useful as it contains mappings from the class id (integer) to the actual sign name."
   ]
  },
  {
   "cell_type": "markdown",
   "metadata": {},
   "source": [
    "### Load and Output the Images"
   ]
  },
  {
   "cell_type": "code",
   "execution_count": 11,
   "metadata": {},
   "outputs": [
    {
     "data": {
      "image/png": "[encoded data removed]",
      "text/plain": [
       "<matplotlib.figure.Figure at 0x7f27bc73f588>"
      ]
     },
     "metadata": {},
     "output_type": "display_data"
    }
   ],
   "source": [
    "### Load the images and plot them here.\n",
    "### Feel free to use as many code cells as needed.\n",
    "%matplotlib inline\n",
    "import matplotlib.image as mpimg\n",
    "plt.figure(figsize=(20,10))\n",
    "columns = 5\n",
    "images_paths = ['stopsign.jpg', 'roadworksign.jpg', 'noentrysign.jpg', 'speedlimit30sign.jpg', 'keeprightsign.jpg']\n",
    "images = []\n",
    "for image in images_paths: images.append(mpimg.imread(image))\n",
    "for i, image in enumerate(images):\n",
    "    plt.subplot(len(images) / columns + 1, columns, i + 1)\n",
    "    plt.imshow(image)"
   ]
  },
  {
   "cell_type": "code",
   "execution_count": null,
   "metadata": {
    "collapsed": true
   },
   "outputs": [],
   "source": []
  },
  {
   "cell_type": "markdown",
   "metadata": {},
   "source": [
    "### Predict the Sign Type for Each Image"
   ]
  },
  {
   "cell_type": "code",
   "execution_count": 12,
   "metadata": {
    "collapsed": true
   },
   "outputs": [],
   "source": [
    "### Run the predictions here and use the model to output the prediction for each image.\n",
    "### Make sure to pre-process the images with the same pre-processing pipeline used earlier.\n",
    "### Feel free to use as many code cells as needed.\n",
    "from PIL import Image\n",
    "gray = [0.299,0.587,0.114]\n",
    "gray_paths = []\n",
    "gray_images = []\n",
    "import scipy.misc\n",
    "for i, image in enumerate(images):\n",
    "    path = 'gray_' + images_paths[i]\n",
    "    gray_paths.append(path)\n",
    "    image = np.dot(image[...,:3], gray)\n",
    "    scipy.misc.imsave(path, image)\n",
    "for gray in gray_paths: gray_images.append(mpimg.imread(gray))\n",
    "\n",
    "gray_array = np.asarray(gray_images)\n",
    "gray_array = np.reshape(gray_array, gray_array.shape + (1,))\n",
    "\n",
    "X_train = np.divide(np.subtract(X_train[...,:32], 128), 128)"
   ]
  },
  {
   "cell_type": "code",
   "execution_count": 13,
   "metadata": {
    "collapsed": true,
    "scrolled": true
   },
   "outputs": [],
   "source": [
    "true_labels = [14, 25, 17, 1, 38]\n",
    "softmax = tf.nn.softmax(logits)\n",
    "predictions = tf.nn.top_k(softmax, k = 5)\n",
    "\n",
    "with tf.Session() as sess:\n",
    "    saver = tf.train.import_meta_graph('lenet.meta')\n",
    "    saver.restore(sess, tf.train.latest_checkpoint('.'))\n",
    "    predictions = sess.run(predictions, feed_dict={x: gray_array})"
   ]
  },
  {
   "cell_type": "code",
   "execution_count": 14,
   "metadata": {},
   "outputs": [
    {
     "name": "stdout",
     "output_type": "stream",
     "text": [
      "prediction of image #1: Stop\n",
      "prediction of image #2: Road work\n",
      "prediction of image #3: No entry\n",
      "prediction of image #4: Speed limit (50km/h)\n",
      "prediction of image #5: Keep right\n"
     ]
    }
   ],
   "source": [
    "signnames = pd.read_csv('signnames.csv')\n",
    "signnames = signnames.set_index('ClassId')\n",
    "\n",
    "for i, prediction in enumerate(predictions.indices):\n",
    "    prediction = prediction[0]\n",
    "    prediction = signnames.loc[prediction, 'SignName']\n",
    "    print ('prediction of image #' + str(i + 1) + ':', prediction)"
   ]
  },
  {
   "cell_type": "markdown",
   "metadata": {},
   "source": [
    "### Analyze Performance"
   ]
  },
  {
   "cell_type": "code",
   "execution_count": 15,
   "metadata": {},
   "outputs": [
    {
     "name": "stdout",
     "output_type": "stream",
     "text": [
      "accuracy of the prediction of web-downloaded images is 80.0000011921 precent\n"
     ]
    }
   ],
   "source": [
    "### Calculate the accuracy for these 5 new images. \n",
    "### For example, if the model predicted 1 out of 5 signs correctly, it's 20% accurate on these new images.\n",
    "with tf.Session() as sess:\n",
    "    saver = tf.train.import_meta_graph('lenet.meta')\n",
    "    saver.restore(sess, tf.train.latest_checkpoint('.'))\n",
    "    accuracy = evaluate(gray_array, true_labels)\n",
    "    print ('accuracy of the prediction of web-downloaded images is', accuracy * 100, 'precent')"
   ]
  },
  {
   "cell_type": "markdown",
   "metadata": {},
   "source": [
    "#### as it turns out, it misclassified the first image, and gave it a prediction of speed limit (30km/h) sign instead of stop sign. I wonder if this may caoused due to the relatively low number of examples of stop sign compare to high number of examples of speed limit (30km/h)."
   ]
  },
  {
   "cell_type": "markdown",
   "metadata": {},
   "source": [
    "### Output Top 5 Softmax Probabilities For Each Image Found on the Web"
   ]
  },
  {
   "cell_type": "markdown",
   "metadata": {},
   "source": [
    "For each of the new images, print out the model's softmax probabilities to show the **certainty** of the model's predictions (limit the output to the top 5 probabilities for each image). [`tf.nn.top_k`](https://www.tensorflow.org/versions/r0.12/api_docs/python/nn.html#top_k) could prove helpful here. \n",
    "\n",
    "The example below demonstrates how tf.nn.top_k can be used to find the top k predictions for each image.\n",
    "\n",
    "`tf.nn.top_k` will return the values and indices (class ids) of the top k predictions. So if k=3, for each sign, it'll return the 3 largest probabilities (out of a possible 43) and the correspoding class ids.\n",
    "\n",
    "Take this numpy array as an example. The values in the array represent predictions. The array contains softmax probabilities for five candidate images with six possible classes. `tf.nn.top_k` is used to choose the three classes with the highest probability:\n",
    "\n",
    "```\n",
    "# (5, 6) array\n",
    "a = np.array([[ 0.24879643,  0.07032244,  0.12641572,  0.34763842,  0.07893497,\n",
    "         0.12789202],\n",
    "       [ 0.28086119,  0.27569815,  0.08594638,  0.0178669 ,  0.18063401,\n",
    "         0.15899337],\n",
    "       [ 0.26076848,  0.23664738,  0.08020603,  0.07001922,  0.1134371 ,\n",
    "         0.23892179],\n",
    "       [ 0.11943333,  0.29198961,  0.02605103,  0.26234032,  0.1351348 ,\n",
    "         0.16505091],\n",
    "       [ 0.09561176,  0.34396535,  0.0643941 ,  0.16240774,  0.24206137,\n",
    "         0.09155967]])\n",
    "```\n",
    "\n",
    "Running it through `sess.run(tf.nn.top_k(tf.constant(a), k=3))` produces:\n",
    "\n",
    "```\n",
    "TopKV2(values=array([[ 0.34763842,  0.24879643,  0.12789202],\n",
    "       [ 0.28086119,  0.27569815,  0.18063401],\n",
    "       [ 0.26076848,  0.23892179,  0.23664738],\n",
    "       [ 0.29198961,  0.26234032,  0.16505091],\n",
    "       [ 0.34396535,  0.24206137,  0.16240774]]), indices=array([[3, 0, 5],\n",
    "       [0, 1, 4],\n",
    "       [0, 5, 1],\n",
    "       [1, 3, 5],\n",
    "       [1, 4, 3]], dtype=int32))\n",
    "```\n",
    "\n",
    "Looking just at the first row we get `[ 0.34763842,  0.24879643,  0.12789202]`, you can confirm these are the 3 largest probabilities in `a`. You'll also notice `[3, 0, 5]` are the corresponding indices."
   ]
  },
  {
   "cell_type": "code",
   "execution_count": 16,
   "metadata": {},
   "outputs": [
    {
     "name": "stdout",
     "output_type": "stream",
     "text": [
      "predictions and accuracies of the #1 image:\n",
      "Stop: 1.0\n",
      "Speed limit (20km/h): 0.0\n",
      "Speed limit (30km/h): 0.0\n",
      "Speed limit (50km/h): 0.0\n",
      "Speed limit (60km/h): 0.0\n",
      "predictions and accuracies of the #2 image:\n",
      "Road work: 1.0\n",
      "Speed limit (20km/h): 0.0\n",
      "Speed limit (30km/h): 0.0\n",
      "Speed limit (50km/h): 0.0\n",
      "Speed limit (60km/h): 0.0\n",
      "predictions and accuracies of the #3 image:\n",
      "No entry: 1.0\n",
      "Speed limit (20km/h): 0.0\n",
      "Speed limit (30km/h): 0.0\n",
      "Speed limit (50km/h): 0.0\n",
      "Speed limit (60km/h): 0.0\n",
      "predictions and accuracies of the #4 image:\n",
      "Speed limit (50km/h): 1.0\n",
      "End of speed limit (80km/h): 1.57837e-19\n",
      "Speed limit (20km/h): 0.0\n",
      "Speed limit (30km/h): 0.0\n",
      "Speed limit (60km/h): 0.0\n",
      "predictions and accuracies of the #5 image:\n",
      "Keep right: 1.0\n",
      "Speed limit (20km/h): 0.0\n",
      "Speed limit (30km/h): 0.0\n",
      "Speed limit (50km/h): 0.0\n",
      "Speed limit (60km/h): 0.0\n"
     ]
    }
   ],
   "source": [
    "### Print out the top five softmax probabilities for the predictions on the German traffic sign images found on the web. \n",
    "### Feel free to use as many code cells as needed.\n",
    "for i in range(5):\n",
    "    print ('predictions and accuracies of the #' + str(i + 1), 'image:')\n",
    "    for index, value in zip(predictions.indices[i], predictions.values[i]):\n",
    "        print (signnames.loc[index, 'SignName'] + ':', value)"
   ]
  },
  {
   "cell_type": "markdown",
   "metadata": {},
   "source": [
    "### Project Writeup\n",
    "\n",
    "Once you have completed the code implementation, document your results in a project writeup using this [template](https://github.com/udacity/CarND-Traffic-Sign-Classifier-Project/blob/master/writeup_template.md) as a guide. The writeup can be in a markdown or pdf file. "
   ]
  },
  {
   "cell_type": "markdown",
   "metadata": {},
   "source": [
    "> **Note**: Once you have completed all of the code implementations and successfully answered each question above, you may finalize your work by exporting the iPython Notebook as an HTML document. You can do this by using the menu above and navigating to  \\n\",\n",
    "    \"**File -> Download as -> HTML (.html)**. Include the finished document along with this notebook as your submission."
   ]
  },
  {
   "cell_type": "markdown",
   "metadata": {},
   "source": [
    "---\n",
    "\n",
    "## Step 4 (Optional): Visualize the Neural Network's State with Test Images\n",
    "\n",
    " This Section is not required to complete but acts as an additional excersise for understaning the output of a neural network's weights. While neural networks can be a great learning device they are often referred to as a black box. We can understand what the weights of a neural network look like better by plotting their feature maps. After successfully training your neural network you can see what it's feature maps look like by plotting the output of the network's weight layers in response to a test stimuli image. From these plotted feature maps, it's possible to see what characteristics of an image the network finds interesting. For a sign, maybe the inner network feature maps react with high activation to the sign's boundary outline or to the contrast in the sign's painted symbol.\n",
    "\n",
    " Provided for you below is the function code that allows you to get the visualization output of any tensorflow weight layer you want. The inputs to the function should be a stimuli image, one used during training or a new one you provided, and then the tensorflow variable name that represents the layer's state during the training process, for instance if you wanted to see what the [LeNet lab's](https://classroom.udacity.com/nanodegrees/nd013/parts/fbf77062-5703-404e-b60c-95b78b2f3f9e/modules/6df7ae49-c61c-4bb2-a23e-6527e69209ec/lessons/601ae704-1035-4287-8b11-e2c2716217ad/concepts/d4aca031-508f-4e0b-b493-e7b706120f81) feature maps looked like for it's second convolutional layer you could enter conv2 as the tf_activation variable.\n",
    "\n",
    "For an example of what feature map outputs look like, check out NVIDIA's results in their paper [End-to-End Deep Learning for Self-Driving Cars](https://devblogs.nvidia.com/parallelforall/deep-learning-self-driving-cars/) in the section Visualization of internal CNN State. NVIDIA was able to show that their network's inner weights had high activations to road boundary lines by comparing feature maps from an image with a clear path to one without. Try experimenting with a similar test to show that your trained network's weights are looking for interesting features, whether it's looking at differences in feature maps from images with or without a sign, or even what feature maps look like in a trained network vs a completely untrained one on the same sign image.\n",
    "\n",
    "<figure>\n",
    " <img src=\"visualize_cnn.png\" width=\"380\" alt=\"Combined Image\" />\n",
    " <figcaption>\n",
    " <p></p> \n",
    " <p style=\"text-align: center;\"> Your output should look something like this (above)</p> \n",
    " </figcaption>\n",
    "</figure>\n",
    " <p></p> \n"
   ]
  },
  {
   "cell_type": "code",
   "execution_count": 17,
   "metadata": {
    "collapsed": true
   },
   "outputs": [],
   "source": [
    "### Visualize your network's feature maps here.\n",
    "### Feel free to use as many code cells as needed.\n",
    "\n",
    "# image_input: the test image being fed into the network to produce the feature maps\n",
    "# tf_activation: should be a tf variable name used during your training procedure that represents the calculated state of a specific weight layer\n",
    "# activation_min/max: can be used to view the activation contrast in more detail, by default matplot sets min and max to the actual min and max values of the output\n",
    "# plt_num: used to plot out multiple different weight feature map sets on the same block, just extend the plt number for each new feature map entry\n",
    "\n",
    "def outputFeatureMap(image_input, tf_activation, activation_min=-1, activation_max=-1 ,plt_num=1):\n",
    "    # Here make sure to preprocess your image_input in a way your network expects\n",
    "    # with size, normalization, ect if needed\n",
    "    # image_input =\n",
    "    # Note: x should be the same name as your network's tensorflow data placeholder variable\n",
    "    # If you get an error tf_activation is not defined it may be having trouble accessing the variable from inside a function\n",
    "    activation = tf_activation.eval(session=sess,feed_dict={x : image_input})\n",
    "    featuremaps = activation.shape[3]\n",
    "    plt.figure(plt_num, figsize=(15,15))\n",
    "    for featuremap in range(featuremaps):\n",
    "        plt.subplot(6,8, featuremap+1) # sets the number of feature maps to show on each row and column\n",
    "        plt.title('FeatureMap ' + str(featuremap)) # displays the feature map number\n",
    "        if activation_min != -1 & activation_max != -1:\n",
    "            plt.imshow(activation[0,:,:, featuremap], interpolation=\"nearest\", vmin =activation_min, vmax=activation_max, cmap=\"gray\")\n",
    "        elif activation_max != -1:\n",
    "            plt.imshow(activation[0,:,:, featuremap], interpolation=\"nearest\", vmax=activation_max, cmap=\"gray\")\n",
    "        elif activation_min !=-1:\n",
    "            plt.imshow(activation[0,:,:, featuremap], interpolation=\"nearest\", vmin=activation_min, cmap=\"gray\")\n",
    "        else:\n",
    "            plt.imshow(activation[0,:,:, featuremap], interpolation=\"nearest\", cmap=\"gray\")"
   ]
  },
  {
   "cell_type": "code",
   "execution_count": 18,
   "metadata": {},
   "outputs": [
    {
     "data": {
      "image/png": "[encoded data removed]",
      "text/plain": [
       "<matplotlib.figure.Figure at 0x7f27bc187eb8>"
      ]
     },
     "metadata": {},
     "output_type": "display_data"
    }
   ],
   "source": [
    "X = gray_array\n",
    "with tf.Session() as sess:\n",
    "    saver.restore(sess, tf.train.latest_checkpoint('.'))\n",
    "    my_tensor = sess.graph.get_tensor_by_name('conv1:0')\n",
    "    outputFeatureMap(gray_array, my_tensor)\n",
    "    plt.show()"
   ]
  }
 ],
 "metadata": {
  "anaconda-cloud": {},
  "kernelspec": {
   "display_name": "Python 3",
   "language": "python",
   "name": "python3"
  },
  "language_info": {
   "codemirror_mode": {
    "name": "ipython",
    "version": 3
   },
   "file_extension": ".py",
   "mimetype": "text/x-python",
   "name": "python",
   "nbconvert_exporter": "python",
   "pygments_lexer": "ipython3",
   "version": "3.5.2"
  },
  "widgets": {
   "state": {},
   "version": "1.1.2"
  }
 },
 "nbformat": 4,
 "nbformat_minor": 1
}
